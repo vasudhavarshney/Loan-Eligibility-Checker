{
 "cells": [
  {
   "cell_type": "code",
   "execution_count": 7,
   "metadata": {},
   "outputs": [],
   "source": [
    "import numpy as np\n",
    "import pandas as pd\n",
    "import matplotlib.pyplot as plt"
   ]
  },
  {
   "cell_type": "code",
   "execution_count": null,
   "metadata": {},
   "outputs": [],
   "source": [
    "data.dtypes"
   ]
  },
  {
   "cell_type": "code",
   "execution_count": null,
   "metadata": {},
   "outputs": [],
   "source": [
    "data = data.astype({'ApplicantIncome': 'float64'})"
   ]
  },
  {
   "cell_type": "code",
   "execution_count": null,
   "metadata": {},
   "outputs": [],
   "source": [
    "data.dtypes"
   ]
  },
  {
   "cell_type": "code",
   "execution_count": null,
   "metadata": {},
   "outputs": [],
   "source": [
    "data.head()"
   ]
  },
  {
   "cell_type": "code",
   "execution_count": null,
   "metadata": {},
   "outputs": [],
   "source": [
    "data.drop('Loan_ID',inplace=True,axis=1)\n"
   ]
  },
  {
   "cell_type": "code",
   "execution_count": null,
   "metadata": {},
   "outputs": [],
   "source": [
    "data.dtypes"
   ]
  },
  {
   "cell_type": "code",
   "execution_count": null,
   "metadata": {},
   "outputs": [],
   "source": [
    "data.columns"
   ]
  },
  {
   "cell_type": "code",
   "execution_count": null,
   "metadata": {},
   "outputs": [],
   "source": [
    "data=data.astype({'Gender':'object','Married':'object','Dependents':'object','Education':'object','Self_Employed':'object',\n",
    "                  'Credit_History':'object','Property_Area':'object'})"
   ]
  },
  {
   "cell_type": "code",
   "execution_count": null,
   "metadata": {},
   "outputs": [],
   "source": [
    "data=pd.get_dummies(data)"
   ]
  },
  {
   "cell_type": "code",
   "execution_count": null,
   "metadata": {},
   "outputs": [],
   "source": [
    "data['Loan_Status']=Loan_Status"
   ]
  },
  {
   "cell_type": "code",
   "execution_count": null,
   "metadata": {},
   "outputs": [],
   "source": [
    "data.head()"
   ]
  },
  {
   "cell_type": "code",
   "execution_count": null,
   "metadata": {},
   "outputs": [],
   "source": [
    "data.to_csv('./cleaned_datast.csv')"
   ]
  },
  {
   "cell_type": "code",
   "execution_count": null,
   "metadata": {},
   "outputs": [],
   "source": [
    "data=pd.read_csv(r'./cleaned_datast.csv')\n",
    "data.columns"
   ]
  },
  {
   "cell_type": "code",
   "execution_count": null,
   "metadata": {},
   "outputs": [],
   "source": [
    "from sklearn.model_selection import train_test_split\n",
    "import sklearn\n",
    "from sklearn import pipeline,ensemble,tree,feature_selection\n",
    "from sklearn.linear_model import LogisticRegression#Logistic Regression\n",
    "from sklearn.metrics import f1_score"
   ]
  },
  {
   "cell_type": "code",
   "execution_count": null,
   "metadata": {},
   "outputs": [],
   "source": [
    "x=['ApplicantIncome', 'CoapplicantIncome', 'LoanAmount',\n",
    "       'Loan_Amount_Term', 'Gender_0.0', 'Gender_1.0', 'Married_0.0',\n",
    "       'Married_1.0', 'Dependents_0.0', 'Dependents_1.0', 'Dependents_2.0',\n",
    "       'Dependents_3.0', 'Education_0', 'Education_1', 'Self_Employed_0.0',\n",
    "       'Self_Employed_1.0', 'Credit_History_0.0', 'Credit_History_1.0',\n",
    "       'Property_Area_0', 'Property_Area_1', 'Property_Area_2']\n",
    "y=['Loan_Status']\n",
    "seed=7\n"
   ]
  },
  {
   "cell_type": "code",
   "execution_count": null,
   "metadata": {},
   "outputs": [],
   "source": [
    "train_x,test_x,train_y,test_y=train_test_split(data[x],data[y],test_size = 0.3, random_state=7)\n",
    "\n",
    "train_x.shape,test_x.shape,train_y.shape,test_y.shape"
   ]
  },
  {
   "cell_type": "code",
   "execution_count": null,
   "metadata": {},
   "outputs": [],
   "source": [
    "pipe_obj=pipeline.Pipeline([('model', LogisticRegression(random_state=7))])"
   ]
  },
  {
   "cell_type": "code",
   "execution_count": null,
   "metadata": {},
   "outputs": [],
   "source": [
    "pipe_obj.fit(train_x,train_y)"
   ]
  },
  {
   "cell_type": "code",
   "execution_count": null,
   "metadata": {},
   "outputs": [],
   "source": [
    "pred_train = pipe_obj.predict(train_x)\n",
    "train_score = f1_score(train_y,pred_train)"
   ]
  },
  {
   "cell_type": "code",
   "execution_count": null,
   "metadata": {},
   "outputs": [],
   "source": [
    "pred_test = pipe_obj.predict(test_x)\n",
    "valid_score=f1_score(test_y,pred_test)\n",
    "#l={'train_y':train_y.transpose(),'pred_train':pred_train.transpose()}\n",
    "#m={'valid_y':valid_y,'pred_test':pred_test}\n",
    "l=[train_y,pred_train,test_y,pred_test]\n",
    "\n",
    "new=pd.DataFrame([np.array(train_y)[0],np.array(pred_train),np.array(test_y)[0],np.array(pred_test)],['train_y','pred_train','test_y','pred_test']).transpose()\n"
   ]
  },
  {
   "cell_type": "code",
   "execution_count": null,
   "metadata": {},
   "outputs": [],
   "source": [
    "new.head(25)"
   ]
  },
  {
   "cell_type": "code",
   "execution_count": null,
   "metadata": {},
   "outputs": [],
   "source": [
    "print('Training score:', train_score)\n",
    "print('Validation score:', valid_score)"
   ]
  },
  {
   "cell_type": "code",
   "execution_count": null,
   "metadata": {},
   "outputs": [],
   "source": [
    "import joblib"
   ]
  },
  {
   "cell_type": "code",
   "execution_count": null,
   "metadata": {},
   "outputs": [],
   "source": [
    "joblib.dump(pipe_obj,\"trained_model.pkl\")"
   ]
  },
  {
   "cell_type": "code",
   "execution_count": null,
   "metadata": {},
   "outputs": [],
   "source": [
    "modelreload=joblib.load('trained_model.pkl')"
   ]
  },
  {
   "cell_type": "code",
   "execution_count": null,
   "metadata": {},
   "outputs": [],
   "source": [
    "modelreload.predict(test_x)"
   ]
  },
  {
   "cell_type": "code",
   "execution_count": null,
   "metadata": {},
   "outputs": [],
   "source": [
    "tem={'ApplicantIncome': '151331', 'CoapplicantIncome': '5412', 'LoanAmount': '10000', 'Loan_Amount_Term': '356', 'Gender': 'Gender_1.0', 'Married': 'Married_1.0', 'Dependents': 'Dependents_0.0', 'Education': 'Education_1.0', 'Self_Employed': 'Self_Employed_1.0', 'Credit_History': 'Credit_History_0.0', 'Property_Area': 'Property_Area_0'}"
   ]
  },
  {
   "cell_type": "code",
   "execution_count": null,
   "metadata": {},
   "outputs": [],
   "source": [
    "obj_val=[tem['Gender'],tem['Married'],tem['Dependents'],tem['Education'],tem['Self_Employed'],tem['Property_Area'],tem['Credit_History']]"
   ]
  },
  {
   "cell_type": "code",
   "execution_count": null,
   "metadata": {},
   "outputs": [],
   "source": [
    "list1=['ApplicantIncome', 'CoapplicantIncome', 'LoanAmount','Loan_Amount_Term']\n",
    "list2=['Gender_0.0','Gender_1.0','Married_0.0','Married_1.0','Dependents_0.0','Dependents_1.0',\n",
    "       'Dependents_2.0','Dependents_3.0','Education_0.0','Education_1.0','Self_Employed_0.0','Self_Employed_1.0',\n",
    "       'Credit_History_0.0','Credit_History_1.0','Property_Area_0','Property_Area_1','Property_Area_2']\n"
   ]
  },
  {
   "cell_type": "code",
   "execution_count": null,
   "metadata": {},
   "outputs": [],
   "source": [
    "tem_new={}\n",
    "for i in list1:\n",
    "    tem_new[i]=tem[i]\n",
    "for i in list2:\n",
    "    if(i in obj_val):\n",
    "        tem_new[i]=1\n",
    "    else:\n",
    "        tem_new[i]=0"
   ]
  },
  {
   "cell_type": "code",
   "execution_count": null,
   "metadata": {},
   "outputs": [],
   "source": [
    "print(tem_new)"
   ]
  },
  {
   "cell_type": "code",
   "execution_count": null,
   "metadata": {},
   "outputs": [],
   "source": [
    "x1=pd.DataFrame({'a':tem_new}).transpose()\n",
    "x1"
   ]
  },
  {
   "cell_type": "code",
   "execution_count": null,
   "metadata": {},
   "outputs": [],
   "source": [
    "aproval=modelreload.predict(x1)[0]\n",
    "aproval"
   ]
  },
  {
   "cell_type": "code",
   "execution_count": null,
   "metadata": {},
   "outputs": [],
   "source": []
  }
 ],
 "metadata": {
  "kernelspec": {
   "display_name": "Python 3",
   "language": "python",
   "name": "python3"
  },
  "language_info": {
   "codemirror_mode": {
    "name": "ipython",
    "version": 3
   },
   "file_extension": ".py",
   "mimetype": "text/x-python",
   "name": "python",
   "nbconvert_exporter": "python",
   "pygments_lexer": "ipython3",
   "version": "3.7.3"
  }
 },
 "nbformat": 4,
 "nbformat_minor": 4
}
